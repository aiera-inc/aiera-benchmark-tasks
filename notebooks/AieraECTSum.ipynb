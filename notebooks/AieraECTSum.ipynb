{
 "cells": [
  {
   "cell_type": "markdown",
   "id": "fa2ed306-8633-4c34-833d-c1e1a10a6cb3",
   "metadata": {},
   "source": [
    "# Aiera Earnings Call Summaries\n",
    "This notebook provides a sample execution of the task packaged in `tasks/aiera-ect-sum` using OpenAI's `gpt-4-turbo-2024-04-09`\n",
    "\n",
    "Execution requires the setting of environment variables `OPEN_API_KEY` and `OPENAI_ORG_ID`. See [OpenAI's docs](https://platform.openai.com/docs/api-reference/authentication) for more details on how to set these up."
   ]
  },
  {
   "cell_type": "code",
   "execution_count": null,
   "id": "b11013df-70ad-4528-9419-a673f0b5e6ef",
   "metadata": {},
   "outputs": [],
   "source": [
    "# import relevant libraries\n",
    "from lm_eval import simple_evaluate, tasks\n",
    "from lm_eval.models.openai_completions import OpenaiChatCompletionsLM\n",
    "import openai\n",
    "import os\n",
    "\n",
    "openai.api_key = os.environ[\"OPENAI_API_KEY\"]\n",
    "openai.org_id = os.environ[\"OPENAI_ORG_ID\"]\n",
    "\n",
    "CWD = os.getcwd()\n",
    "REPO_ROOT = os.path.abspath(os.path.join(CWD, \"..\"))"
   ]
  },
  {
   "cell_type": "markdown",
   "id": "660a8a67-9f86-499c-9385-4745b9d73789",
   "metadata": {},
   "source": [
    "## First set up the model and task manager"
   ]
  },
  {
   "cell_type": "code",
   "execution_count": null,
   "id": "369cdff6-7dc4-4991-90e4-2ccb40d9007e",
   "metadata": {},
   "outputs": [],
   "source": [
    "model = OpenaiChatCompletionsLM(model=\"gpt-4-turbo-2024-04-09\")"
   ]
  },
  {
   "cell_type": "code",
   "execution_count": null,
   "id": "efdae139-c091-452a-9b43-ce217fca86aa",
   "metadata": {},
   "outputs": [],
   "source": [
    "task_manager = tasks.TaskManager(\n",
    "    include_path=f\"{REPO_ROOT}/tasks\", include_defaults=False\n",
    ")\n",
    "task_manager.all_tasks"
   ]
  },
  {
   "cell_type": "markdown",
   "id": "222d2e80-43b6-4b5b-b891-12c80f632f8f",
   "metadata": {},
   "source": [
    "## Run the evaluation"
   ]
  },
  {
   "cell_type": "code",
   "execution_count": null,
   "id": "ada4c679-f439-4ea2-b72a-58a06226fe77",
   "metadata": {},
   "outputs": [],
   "source": [
    "results = simple_evaluate( # call simple_evaluate\n",
    "    model=model,\n",
    "    tasks=[\"aiera_ect_sum\"],\n",
    "    num_fewshot=0,\n",
    "    task_manager=task_manager,\n",
    "    write_out = False,\n",
    "    # limit = 2 # allows you to limit the number of samples run\n",
    ")"
   ]
  },
  {
   "cell_type": "markdown",
   "id": "a338aad0-3011-4a13-b030-40c5c00710c1",
   "metadata": {},
   "source": [
    "## Inspect results"
   ]
  },
  {
   "cell_type": "code",
   "execution_count": null,
   "id": "88f04dab-f9bc-4de7-bac9-aba03b2ce3c2",
   "metadata": {},
   "outputs": [],
   "source": [
    "results[\"results\"]"
   ]
  },
  {
   "cell_type": "code",
   "execution_count": null,
   "id": "72df7448-2ae3-4f88-ba86-2dd519eeeaa0",
   "metadata": {},
   "outputs": [],
   "source": []
  }
 ],
 "metadata": {
  "kernelspec": {
   "display_name": "Python 3 (ipykernel)",
   "language": "python",
   "name": "python3"
  },
  "language_info": {
   "codemirror_mode": {
    "name": "ipython",
    "version": 3
   },
   "file_extension": ".py",
   "mimetype": "text/x-python",
   "name": "python",
   "nbconvert_exporter": "python",
   "pygments_lexer": "ipython3",
   "version": "3.10.0"
  }
 },
 "nbformat": 4,
 "nbformat_minor": 5
}
