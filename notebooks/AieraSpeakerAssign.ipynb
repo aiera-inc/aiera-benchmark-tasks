{
 "cells": [
  {
   "cell_type": "markdown",
   "id": "57d69a57-f35d-4287-9768-4ba247ef91eb",
   "metadata": {},
   "source": [
    "# Aiera Speaker Assignment\n",
    "This notebook provides a sample execution of the task packaged in `tasks/aiera-speaker-assign` using OpenAI's `gpt-4-turbo-2024-04-09`\n",
    "\n",
    "Execution requires the setting of environment variables `OPEN_API_KEY` and `OPENAI_ORG_ID`. See [OpenAI's docs](https://platform.openai.com/docs/api-reference/authentication) for more details on how to set these up."
   ]
  },
  {
   "cell_type": "code",
   "execution_count": null,
   "id": "3a189a95-9505-4f3e-bac0-22adc88e6b06",
   "metadata": {},
   "outputs": [],
   "source": [
    "# import relevant libraries\n",
    "from lm_eval import simple_evaluate, tasks\n",
    "from lm_eval.models.openai_completions import OpenaiChatCompletionsLM\n",
    "import openai\n",
    "import os\n",
    "\n",
    "openai.api_key = os.environ[\"OPENAI_API_KEY\"]\n",
    "openai.org_id = os.environ[\"OPENAI_ORG_ID\"]\n",
    "\n",
    "CWD = os.getcwd()\n",
    "REPO_ROOT = os.path.abspath(os.path.join(CWD, \"..\"))"
   ]
  },
  {
   "cell_type": "markdown",
   "id": "3e68f9c7-3a67-4713-b6db-10db2819669b",
   "metadata": {},
   "source": [
    "## First set up the model and task manager"
   ]
  },
  {
   "cell_type": "code",
   "execution_count": null,
   "id": "70e8bc96-b05f-4fa2-bfd1-da763f9da861",
   "metadata": {},
   "outputs": [],
   "source": [
    "model = OpenaiChatCompletionsLM(model=\"gpt-4-turbo-2024-04-09\")"
   ]
  },
  {
   "cell_type": "code",
   "execution_count": null,
   "id": "ed3e0267-e824-47c1-b5bf-ded517c0911b",
   "metadata": {},
   "outputs": [],
   "source": [
    "task_manager = tasks.TaskManager(\n",
    "    include_path=f\"{REPO_ROOT}/tasks\", include_defaults=False\n",
    ")\n",
    "task_manager.all_tasks"
   ]
  },
  {
   "cell_type": "markdown",
   "id": "01eb4da7-8104-4603-b202-67c8eb9f9ef4",
   "metadata": {},
   "source": [
    "## Run the evaluation"
   ]
  },
  {
   "cell_type": "code",
   "execution_count": null,
   "id": "85948669-ea75-46ce-8019-ddec4d221ba6",
   "metadata": {},
   "outputs": [],
   "source": [
    "results = simple_evaluate( # call simple_evaluate\n",
    "    model=model,\n",
    "    tasks=[\"aiera_speaker_assign\"],\n",
    "    num_fewshot=0,\n",
    "    task_manager=task_manager,\n",
    "    write_out = False,\n",
    "    # limit = 2 # allows you to limit the number of samples run\n",
    ")"
   ]
  },
  {
   "cell_type": "markdown",
   "id": "751847dc-2648-4a0b-8a40-c1d3f33e0562",
   "metadata": {},
   "source": [
    "## Inspect the results"
   ]
  },
  {
   "cell_type": "code",
   "execution_count": null,
   "id": "36d38e11-b509-4a36-a673-e0244ea8b301",
   "metadata": {},
   "outputs": [],
   "source": [
    "results[\"results\"]"
   ]
  },
  {
   "cell_type": "code",
   "execution_count": null,
   "id": "25447bbd-590f-4df9-bd20-cc157f471038",
   "metadata": {},
   "outputs": [],
   "source": []
  }
 ],
 "metadata": {
  "kernelspec": {
   "display_name": "Python 3 (ipykernel)",
   "language": "python",
   "name": "python3"
  },
  "language_info": {
   "codemirror_mode": {
    "name": "ipython",
    "version": 3
   },
   "file_extension": ".py",
   "mimetype": "text/x-python",
   "name": "python",
   "nbconvert_exporter": "python",
   "pygments_lexer": "ipython3",
   "version": "3.10.0"
  }
 },
 "nbformat": 4,
 "nbformat_minor": 5
}
