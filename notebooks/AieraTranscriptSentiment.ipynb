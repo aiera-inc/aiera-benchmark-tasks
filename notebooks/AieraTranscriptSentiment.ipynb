{
 "cells": [
  {
   "cell_type": "markdown",
   "id": "5d83946e-5878-4115-b6ae-aa9382962ed1",
   "metadata": {},
   "source": [
    "# Aiera Transcript Sentiment\n",
    "This notebook provides a sample execution of the task packaged in `tasks/aiera-transcript-sentiment` using OpenAI's `gpt-4-turbo-2024-04-09`\n",
    "\n",
    "Execution requires the setting of environment variables `OPEN_API_KEY` and `OPENAI_ORG_ID`. See [OpenAI's docs](https://platform.openai.com/docs/api-reference/authentication) for more details on how to set these up."
   ]
  },
  {
   "cell_type": "code",
   "execution_count": null,
   "id": "4be3b9df-da77-4d68-a582-4192e397807c",
   "metadata": {},
   "outputs": [],
   "source": [
    "# import relevant libraries\n",
    "from lm_eval import simple_evaluate, tasks\n",
    "from lm_eval.models.openai_completions import OpenaiChatCompletionsLM\n",
    "import openai\n",
    "import os\n",
    "\n",
    "openai.api_key = os.environ[\"OPENAI_API_KEY\"]\n",
    "openai.org_id = os.environ[\"OPENAI_ORG_ID\"]\n",
    "\n",
    "CWD = os.getcwd()\n",
    "REPO_ROOT = os.path.abspath(os.path.join(CWD, \"..\"))"
   ]
  },
  {
   "cell_type": "markdown",
   "id": "7936a19a-2c73-409a-b9c6-8d6dc61a0a94",
   "metadata": {},
   "source": [
    "## First set up the model and task manager"
   ]
  },
  {
   "cell_type": "code",
   "execution_count": null,
   "id": "9361749a-cc85-4a35-acc7-39d6508f7d55",
   "metadata": {},
   "outputs": [],
   "source": [
    "model = OpenaiChatCompletionsLM(model=\"gpt-4-turbo-2024-04-09\")"
   ]
  },
  {
   "cell_type": "code",
   "execution_count": null,
   "id": "d23d896c-4666-4278-b15a-12a76ee0328b",
   "metadata": {},
   "outputs": [],
   "source": [
    "task_manager = tasks.TaskManager(\n",
    "    include_path=f\"{REPO_ROOT}/tasks\", include_defaults=False\n",
    ")\n",
    "task_manager.all_tasks"
   ]
  },
  {
   "cell_type": "markdown",
   "id": "69750a34-7d9a-4708-aa1d-5a5a0e94692d",
   "metadata": {},
   "source": [
    "## Run the evaluation"
   ]
  },
  {
   "cell_type": "code",
   "execution_count": null,
   "id": "080e8957-69c4-479f-904a-6e6c72cef129",
   "metadata": {},
   "outputs": [],
   "source": [
    "results = simple_evaluate( # call simple_evaluate\n",
    "    model=model,\n",
    "    tasks=[\"aiera_transcript_sentiment\"],\n",
    "    num_fewshot=0,\n",
    "    task_manager=task_manager,\n",
    "    write_out = False,\n",
    "    # limit = 2 # allows you to limit the number of samples run\n",
    ")"
   ]
  },
  {
   "cell_type": "markdown",
   "id": "b6805c12-231a-45b8-ac9c-9457455075a4",
   "metadata": {},
   "source": [
    "## Inspect the results"
   ]
  },
  {
   "cell_type": "code",
   "execution_count": null,
   "id": "1793f836-905d-4ed0-9818-78ae480ae665",
   "metadata": {},
   "outputs": [],
   "source": [
    "results[\"results\"]"
   ]
  },
  {
   "cell_type": "code",
   "execution_count": null,
   "id": "cbabc54b-5a05-460a-981c-a33978085973",
   "metadata": {},
   "outputs": [],
   "source": []
  },
  {
   "cell_type": "code",
   "execution_count": null,
   "id": "560753a0-ea28-48e8-83b9-360cce2bbea1",
   "metadata": {},
   "outputs": [],
   "source": []
  }
 ],
 "metadata": {
  "kernelspec": {
   "display_name": "Python 3 (ipykernel)",
   "language": "python",
   "name": "python3"
  },
  "language_info": {
   "codemirror_mode": {
    "name": "ipython",
    "version": 3
   },
   "file_extension": ".py",
   "mimetype": "text/x-python",
   "name": "python",
   "nbconvert_exporter": "python",
   "pygments_lexer": "ipython3",
   "version": "3.10.0"
  }
 },
 "nbformat": 4,
 "nbformat_minor": 5
}
