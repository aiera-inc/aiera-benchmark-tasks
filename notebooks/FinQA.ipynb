{
 "cells": [
  {
   "cell_type": "markdown",
   "id": "295000a9-62ed-4a8a-a636-56321364f42f",
   "metadata": {},
   "source": [
    "# FinQA\n",
    "This notebook provides a sample execution of the task packaged in `tasks/finqa` using OpenAI's `gpt-4-turbo-2024-04-09`\n",
    "\n",
    "Execution requires the setting of environment variables `OPEN_API_KEY` and `OPENAI_ORG_ID`. See [OpenAI's docs](https://platform.openai.com/docs/api-reference/authentication) for more details on how to set these up."
   ]
  },
  {
   "cell_type": "code",
   "execution_count": null,
   "id": "7e6160ed-d13f-45ce-a04d-892eeae47671",
   "metadata": {},
   "outputs": [],
   "source": [
    "# import relevant libraries\n",
    "from lm_eval import simple_evaluate, tasks\n",
    "from lm_eval.models.openai_completions import OpenaiChatCompletionsLM\n",
    "import openai\n",
    "import os\n",
    "\n",
    "openai.api_key = os.environ[\"OPENAI_API_KEY\"]\n",
    "openai.org_id = os.environ[\"OPENAI_ORG_ID\"]\n",
    "\n",
    "CWD = os.getcwd()\n",
    "REPO_ROOT = os.path.abspath(os.path.join(CWD, \"..\"))"
   ]
  },
  {
   "cell_type": "markdown",
   "id": "b6b327ef-a619-4cc9-9a27-b2a75a32bbd0",
   "metadata": {},
   "source": [
    "## First set up the model and task manager"
   ]
  },
  {
   "cell_type": "code",
   "execution_count": null,
   "id": "781a3890-fc51-4eae-a6c6-6375be4e8586",
   "metadata": {},
   "outputs": [],
   "source": [
    "model = OpenaiChatCompletionsLM(model=\"gpt-4-turbo-2024-04-09\")"
   ]
  },
  {
   "cell_type": "code",
   "execution_count": null,
   "id": "ef45c140-7d52-4f0d-af0e-8b5988c4f771",
   "metadata": {},
   "outputs": [],
   "source": [
    "task_manager = tasks.TaskManager(\n",
    "    include_path=f\"{REPO_ROOT}/tasks\", include_defaults=False\n",
    ")\n",
    "task_manager.all_tasks"
   ]
  },
  {
   "cell_type": "markdown",
   "id": "c419bee5-786a-485a-a0b2-1aacec3d8c77",
   "metadata": {},
   "source": [
    "## Run the evaluation"
   ]
  },
  {
   "cell_type": "code",
   "execution_count": null,
   "id": "f80028fd-0418-42f9-9395-9802badcd828",
   "metadata": {},
   "outputs": [],
   "source": [
    "results = simple_evaluate( # call simple_evaluate\n",
    "    model=model,\n",
    "    tasks=[\"finqa\"],\n",
    "    num_fewshot=0,\n",
    "    task_manager=task_manager,\n",
    "    write_out = False,\n",
    "    # limit = 2 # allows you to limit the number of samples run\n",
    ")"
   ]
  },
  {
   "cell_type": "markdown",
   "id": "71639000-0cf5-4f0b-8447-3cfed7239162",
   "metadata": {},
   "source": [
    "## Inspect the results"
   ]
  },
  {
   "cell_type": "code",
   "execution_count": null,
   "id": "b6e0b4f5-16ed-4a8a-9cbf-25009a8f7baf",
   "metadata": {},
   "outputs": [],
   "source": [
    "results[\"results\"]"
   ]
  },
  {
   "cell_type": "code",
   "execution_count": null,
   "id": "1a2c154f-8788-4f60-98b1-a3d3c12858c1",
   "metadata": {},
   "outputs": [],
   "source": []
  }
 ],
 "metadata": {
  "kernelspec": {
   "display_name": "Python 3 (ipykernel)",
   "language": "python",
   "name": "python3"
  },
  "language_info": {
   "codemirror_mode": {
    "name": "ipython",
    "version": 3
   },
   "file_extension": ".py",
   "mimetype": "text/x-python",
   "name": "python",
   "nbconvert_exporter": "python",
   "pygments_lexer": "ipython3",
   "version": "3.10.0"
  }
 },
 "nbformat": 4,
 "nbformat_minor": 5
}
